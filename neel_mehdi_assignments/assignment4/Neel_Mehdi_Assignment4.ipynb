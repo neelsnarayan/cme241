{
 "cells": [
  {
   "cell_type": "markdown",
   "metadata": {},
   "source": [
    "# Stanford CME 241 (Winter 2024) - Assignment 4\n",
    "\n",
    "**Due: Feb 5 @ 11:59pm Pacific Time on Gradescope.**\n",
    "\n",
    "Assignment instructions:\n",
    "- **Please solve questions 1 and 2, and choose one of questions 3 or 4.**\n",
    "- Empty code blocks are for your use. Feel free to create more under each section as needed.\n",
    "\n",
    "Submission instructions:\n",
    "- When complete, fill out your publicly available GitHub repo file URL and group members below, then export or print this .ipynb file to PDF and upload the PDF to Gradescope.\n",
    "\n",
    "*Link to this ipynb file in your public GitHub repo (replace below URL with yours):* \n",
    "\n",
    "https://github.com/neelsnarayan/cme241/blob/master/neel_mehdi_assignments/assignment4/Neel_Mehdi_Assignment4.ipynb\n",
    "\n",
    "*Group members (replace below names with people in your group):* \n",
    "- Neel Narayan\n",
    "- Mehdi Zhioua"
   ]
  },
  {
   "cell_type": "markdown",
   "metadata": {},
   "source": [
    "## Imports"
   ]
  },
  {
   "cell_type": "code",
   "execution_count": 6,
   "metadata": {
    "vscode": {
     "languageId": "plaintext"
    }
   },
   "outputs": [],
   "source": [
    "from rl.function_approx import FunctionApprox\n",
    "from rl.markov_process import NonTerminal\n",
    "from rl.distribution import Choose\n",
    "from rl.markov_decision_process import FiniteMarkovDecisionProcess\n",
    "from rl.policy import DeterministicPolicy\n",
    "from rl.dynamic_programming import policy_iteration_result, value_iteration_result\n",
    "from typing import TypeVar, Callable, Iterator, Tuple"
   ]
  },
  {
   "cell_type": "markdown",
   "metadata": {},
   "source": [
    "## Question 1\n",
    "Implement *Approximate Policy Iteration*, generalization of the tabular\n",
    "Policy Iteration we covered in the previous class. In order to implement\n",
    "Approximate Policy Iteration, first review the interface and\n",
    "implementation of *Approximate Policy Evaluation* and *Approximate Value\n",
    "Iteration* (in file\n",
    "[rl/approximate_dynamic_programming.py](https://github.com/TikhonJelvis/RL-book/blob/master/rl/approximate_dynamic_programming.py)),\n",
    "then design the interface of *Approximate Policy Iteration* to be the\n",
    "same as that of *Approximate Value Iteration*. Note that your\n",
    "implementation of *Approximate Policy Iteration* would need to invoke\n",
    "*Approximate Policy Evaluation* since Policy Evaluation is a component\n",
    "of Policy Iteration. Test that your implementation is correct in two\n",
    "ways:\n",
    "\n",
    "-   Ensure that *Approximate Policy Iteration* gives the same Optimal\n",
    "    Value Function/Optimal Policy as that obtained by *Approximate Value\n",
    "    Iteration*.\n",
    "\n",
    "-   Ensure that *Approximate Policy Iteration* produces the same result\n",
    "    as our prior implementation of Policy Iteration (in file\n",
    "    [rl/dynamic_programming.py](https://github.com/TikhonJelvis/RL-book/blob/master/rl/dynamic_programming.py)).\n",
    "    For this you need to pass to your implementation of *Approximate\n",
    "    Policy Iteration* a `FiniteMarkovDecisionProcess` input and a\n",
    "    `Tabular` instance for the `FunctionApprox` input."
   ]
  },
  {
   "cell_type": "code",
   "execution_count": 10,
   "metadata": {
    "vscode": {
     "languageId": "plaintext"
    }
   },
   "outputs": [],
   "source": [
    "# We were not able to understand the interface and implementation of Approximate Policy Evaluation\n",
    "# and Approximate Value Iteration, so the code below is our attempt at general structure\n",
    "# It is a mix of pseudo code and python code\n",
    "\n",
    "S = TypeVar('S')\n",
    "A = TypeVar('A')\n",
    "\n",
    "def approximate_policy_iteration(\n",
    "    mdp: FiniteMarkovDecisionProcess[S, A],\n",
    "    γ: float,\n",
    "    approx1: FunctionApprox[NonTerminal[S]],\n",
    "    tolerance: float\n",
    ") -> Tuple[FunctionApprox[NonTerminal[S]], DeterministicPolicy[S, A]]:\n",
    "    \n",
    "    def improve(\n",
    "        v: FunctionApprox[NonTerminal[S]]\n",
    "    ) -> DeterministicPolicy[S, A]:\n",
    "        # use greedy approach (from github)\n",
    "        return v.update(\n",
    "            [(\n",
    "                s,\n",
    "                max(mdp.mapping[s][a].expectation(return_)\n",
    "                    for a in mdp.actions(s))\n",
    "            ) for s in mdp.non_terminal_states]\n",
    "        )\n",
    "    \n",
    "    def evaluate(\n",
    "        policy: DeterministicPolicy[S, A],\n",
    "        approx_0: FunctionApprox[NonTerminal[S]]\n",
    "    ) -> FunctionApprox[NonTerminal[S]]:\n",
    "        while True:\n",
    "            # update the approximation until it begans to converge (pseudocode)\n",
    "            new_approx_0 = approx_0.update(...)\n",
    "            if math.abs(new_approx_0 - approx_0) <= tolerance:\n",
    "                return new_approx_0\n",
    "            approx_0 = new_approx_0\n",
    "    \n",
    "    # continually update policy by evaluating then improving\n",
    "    while True:\n",
    "        approx_0 = evaluate(policy, approx_0)\n",
    "        improved = improve(approx_0)\n",
    "        if policy == improved:\n",
    "            return approx_0, policy\n",
    "        policy = improved"
   ]
  },
  {
   "cell_type": "markdown",
   "metadata": {},
   "source": [
    "## Question 2\n",
    "Assume the Utility function is $U(x) = x - \\frac {\\alpha x^2} 2$.\n",
    "Assuming $x \\sim \\mathcal{N}(\\mu, \\sigma^2)$, calculate:\n",
    "\n",
    "-   Expected Utility $\\mathbb{E}[U(x)]$\n",
    "\n",
    "-   Certainty-Equivalent Value $x_{CE}$\n",
    "\n",
    "-   Absolute Risk-Premium $\\pi_A$\n",
    "\n",
    "\n",
    "Assume you have a million dollars to invest for a year and you are\n",
    "allowed to invest $z$ dollars in a risky asset whose annual return on\n",
    "investment is $\\mathcal{N}(\\mu, \\sigma^2)$ and the remaining (a million\n",
    "minus $z$ dollars) would need to be invested in a riskless asset with\n",
    "fixed annual return on investment of $r$. You are not allowed to adjust\n",
    "the quantities invested in the risky and riskless assets after your\n",
    "initial investment decision at time $t=0$ (static asset allocation\n",
    "problem). If your risk-aversion is based on this Utility function, how\n",
    "much would you invest in the risky asset? In other words, what is the\n",
    "optimal value for $z$, given your level of risk-aversion (determined by\n",
    "a fixed value of $\\alpha$)?\n",
    "\n",
    "Plot how the optimal value of $z$ varies with $\\alpha$."
   ]
  },
  {
   "cell_type": "markdown",
   "metadata": {},
   "source": [
    "1. The expected utility is :\n",
    "\\begin{align*}\n",
    "E(U) = E\\left(x-\\alpha \\frac{x^2}{2}\\right) &= \\mu - \\frac{\\alpha}{2}E(x^2)\\\\\n",
    "&=\\mu - \\frac{\\alpha}{2}\\left( \\sigma^2 + \\mu^2 \\right)\\\\\n",
    "\\end{align*}\n",
    "\n",
    "2. To compute the Certainty-Equivalent Value $x_{CE}$, we need to solve for:\n",
    "$$\n",
    "x_{CE} - \\frac{\\alpha x_{CE}^2}{2} = E(U)\n",
    "$$\n",
    "Which gives :\n",
    "$$\n",
    "x_{CE} = \\frac{1 \\pm \\sqrt{1-2\\alpha E(U)}}{\\alpha}\n",
    "$$\n",
    "We see that this Utility function really makes sense only in the domain $]-\\infty,1/\\alpha]$, where it is increasing and concave (unless we think of an utility that wants to really target an objective wealth $1/\\alpha$ and would penalize in a concave way deviating too much from it) so the intuitive $x_{CE}$ value we would take is $x_{CE} = \\frac{1 - \\sqrt{1-2\\alpha E(U)}}{\\alpha}$. We have to note that $x-\\frac{\\alpha x^2}{2}$ is maximized when $x=\\frac{1}{\\alpha}$, so the expected utility is bounded by $\\frac{1}{2\\alpha}$ and therefore the square root is always defined\n",
    "\n",
    "\n",
    "3. If we visulaize it in terms of risk premia, then we would say $\\pi_A = \\vert x_{CE} - E(U)  \\vert = \\left\\vert \\frac{1 - \\sqrt{1-2\\alpha E(U)}}{\\alpha} - E(U) \\right\\vert$. We could also say $\\pi_A =  \\left\\vert \\frac{1 + \\sqrt{1-2\\alpha E(U)}}{\\alpha} - E(U) \\right\\vert$ but it would make more sense to take the first expression as we more naturally consider the domain where the utility function is increasing concave. \n",
    "\n",
    "\n",
    "So for a given $z$ (expressed in millions), the return on investment would be $(1-z)(1+r)+z(1+x)$ therfore, if we define $u(z) = E(U((1-z)(1+r)+z(1+x)))$, then we get :\n",
    "$$\n",
    "u(z) = E\\left( X - \\frac{\\alpha X^2}{2}   \\right)\n",
    "$$\n",
    "where \n",
    "$$\n",
    "X \\sim \\mathcal{N}\\left\\{\\underset{a}{\\underbrace{1+r+z(\\mu-r)}},z^2\\sigma^2\\right\\}\n",
    "$$"
   ]
  },
  {
   "cell_type": "markdown",
   "metadata": {},
   "source": [
    "So :\n",
    "$$\n",
    "u(z) = 1+r +z(\\mu-r)-\\frac{\\alpha}{2}\\left[ z^2 \\sigma^2 + (1+r)^2 + 2z(\\mu-r)(1+r) + z^2(\\mu-r)^2   \\right]\n",
    "$$"
   ]
  },
  {
   "cell_type": "markdown",
   "metadata": {},
   "source": [
    "$$\n",
    "u(z) = 1+r -\\frac{\\alpha}{2}(1+r)^2 + z \\left\\{ \\mu - r + 2(\\mu-r)(1+r)\\right\\} - z^2 \\left\\{ \\frac{\\alpha \\sigma^2}{2} + \\frac{\\alpha (\\mu-r)^2}{2}\\right\\}\n",
    "$$"
   ]
  },
  {
   "cell_type": "markdown",
   "metadata": {
    "vscode": {
     "languageId": "plaintext"
    }
   },
   "source": [
    "Which is simply a quadratic function of $z$ and minimized for \n",
    "$$\n",
    "z = \\frac{1}{\\alpha} \\left[\\frac{\\mu-r + 2(\\mu-r)(1+r))}{\\sigma^2 + (\\mu-r)^2}\\right]\n",
    "$$"
   ]
  },
  {
   "cell_type": "markdown",
   "metadata": {},
   "source": [
    "If we set for example the risk free rate $r=0.05$ and $\\mu = 0.1$, and $\\sigma = 0.5$ (50 \\% volatility), then we get, depending on $\\alpha \\in [1,10]$:"
   ]
  },
  {
   "cell_type": "code",
   "execution_count": 2,
   "metadata": {},
   "outputs": [
    {
     "data": {
      "image/png": "[encoded data removed]",
      "text/plain": [
       "<Figure size 1000x600 with 1 Axes>"
      ]
     },
     "metadata": {},
     "output_type": "display_data"
    }
   ],
   "source": [
    "r = 0.05\n",
    "mu = 0.1\n",
    "sigma = 0.5\n",
    "\n",
    "def z(alpha, r, mu, sigma):\n",
    "    numerator = mu - r + 2 * (mu - r) * (1 + r)\n",
    "    denominator = sigma**2 + (mu - r)**2\n",
    "    return (1 / alpha) * (numerator / denominator)\n",
    "\n",
    "alphas = np.linspace(1, 10, 400)\n",
    "\n",
    "z_values = [z(alpha, r, mu, sigma) for alpha in alphas]\n",
    "\n",
    "plt.figure(figsize=(10, 6))\n",
    "plt.plot(alphas, z_values, label=r'z as a function of $\\alpha$')\n",
    "plt.xlabel('Alpha')\n",
    "plt.ylabel('Optimal z')\n",
    "plt.legend()\n",
    "plt.grid(True)\n",
    "plt.show()"
   ]
  },
  {
   "cell_type": "markdown",
   "metadata": {},
   "source": [
    "## Question 3\n",
    "\n",
    "Assume you are playing a casino game where at every turn, if you bet a\n",
    "quantity $x$, you will be returned $x \\cdot (1 + \\alpha)$ with\n",
    "probability $p$ and returned $x \\cdot (1 - \\beta)$ with probability\n",
    "$q = 1 - p$ for $\\alpha, \\beta \\in \\mathbb{R}^+$ (i.e., the return on\n",
    "bet is $\\alpha$ with probability $p$ and $-\\beta$ with probability\n",
    "$q = 1-p$) . The problem is to identify a betting strategy that will\n",
    "maximize one's expected wealth over the long run. The optimal solution\n",
    "to this problem is known as the Kelly criterion, which involves betting\n",
    "a constant fraction of one's wealth at each turn (let us denote this\n",
    "optimal fraction as $f^*$).\n",
    "\n",
    "It is known that the Kelly criterion (formula for $f^*$) is equivalent\n",
    "to maximizing the Expected Utility of Wealth after a single bet, with\n",
    "the Utility function defined as: $U(W) = \\log(W)$. Denote your wealth\n",
    "before placing the single bet as $W_0$. Let $f$ be the fraction (to be\n",
    "solved for) of $W_0$ that you will bet. Therefore, your bet is\n",
    "$f \\cdot W_0$.\n",
    "\n",
    "-   Write down the two outcomes for wealth $W$ at the end of your single\n",
    "    bet of $f \\cdot W_0$.\n",
    "\n",
    "-   Write down the two outcomes for $\\log$ (Utility) of $W$.\n",
    "\n",
    "-   Write down $\\mathbb{E}[\\log(W)]$.\n",
    "\n",
    "-   Take the derivative of $\\mathbb{E}[\\log(W)]$ with respect to $f$.\n",
    "\n",
    "-   Set this derivative to 0 to solve for $f^*$. Verify that this is\n",
    "    indeed a maxima by evaluating the second derivative at $f^*$. This\n",
    "    formula for $f^*$ is known as the Kelly Criterion.\n",
    "\n",
    "-   Convince yourself that this formula for $f^*$ makes intuitive sense\n",
    "    (in terms of it's dependency on $\\alpha$, $\\beta$ and $p$).\n"
   ]
  },
  {
   "cell_type": "markdown",
   "metadata": {
    "vscode": {
     "languageId": "plaintext"
    }
   },
   "source": [
    "1. After a single bet, the outcomes for the wealth are, in case of win $(1-f)W_0 + fW_0(1+\\alpha) = W_0(1+f\\alpha)$ and in case of loss : $W_0(1-f\\beta)$\n",
    "\n",
    "2. The log utilities are $\\log(W_0)+\\log(1+f\\alpha)$ and $\\log(W_0)+\\log(1-f\\beta)$\n",
    "\n",
    "3. W there fore get $E(\\log(W)) = \\log(W_0) + p\\log(1+f\\alpha) + q \\log(1-f\\beta)$\n",
    "\n",
    "4. Deriving with respect to $f$ gives \n",
    "$$\n",
    "\\frac{\\partial E(\\log(W)) }{\\partial f} = \\frac{p\\alpha}{1+f\\alpha} - \\frac{q\\beta}{1-f\\beta}\n",
    "$$\n",
    "\n",
    "5. We get \n",
    "$$\n",
    "\\frac{1+f^*\\alpha}{p\\alpha} = \\frac{1-f^*\\beta}{q\\beta}\n",
    "$$"
   ]
  },
  {
   "cell_type": "markdown",
   "metadata": {},
   "source": [
    "$$\n",
    "f^*\\left( \\frac{1}{p} +\\frac{1}{q} \\right) = \\frac{1}{q\\beta} - \\frac{1}{p \\alpha}\n",
    "$$"
   ]
  },
  {
   "cell_type": "markdown",
   "metadata": {},
   "source": [
    "$$\n",
    "f^* = \\frac{pq}{p+q}\\left( \\frac{1}{q\\beta} - \\frac{1}{p \\alpha} \\right)\n",
    "$$\n",
    "\n",
    "$$\n",
    "f^* = \\frac{p}{\\beta} - \\frac{q}{\\alpha}\n",
    "$$"
   ]
  },
  {
   "cell_type": "markdown",
   "metadata": {},
   "source": [
    "6. This formula makes intuitive sense because :\n",
    "- It is increasing in p : the greater the probability of succes, the bigger hte bet\n",
    "- It is decreasing in q : the greater the probilty of loss, the smaller the bet\n",
    "- It is decreasing in $\\beta$ : the bet is smaller if the loss risked is bigger\n",
    "- It is increadsing in $\\alpha$ : the bet is bigger is the upside is bigger"
   ]
  },
  {
   "cell_type": "markdown",
   "metadata": {},
   "source": [
    "## Question 4\n",
    "\n",
    "Derive the solution to Merton's Portfolio problem for the case of the\n",
    "$\\log(\\cdot)$ Utility function. Note that the derivation in the textbook\n",
    "is for CRRA Utility function with $\\gamma \\neq 1$ and the case of the\n",
    "$\\log(\\cdot)$ Utility function was left as an exercise to the reader."
   ]
  },
  {
   "cell_type": "code",
   "execution_count": null,
   "metadata": {
    "vscode": {
     "languageId": "plaintext"
    }
   },
   "outputs": [],
   "source": []
  }
 ],
 "metadata": {
  "kernelspec": {
   "display_name": "Python 3 (ipykernel)",
   "language": "python",
   "name": "python3"
  },
  "language_info": {
   "codemirror_mode": {
    "name": "ipython",
    "version": 3
   },
   "file_extension": ".py",
   "mimetype": "text/x-python",
   "name": "python",
   "nbconvert_exporter": "python",
   "pygments_lexer": "ipython3",
   "version": "3.8.3"
  }
 },
 "nbformat": 4,
 "nbformat_minor": 2
}
