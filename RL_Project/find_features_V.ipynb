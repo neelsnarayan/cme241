{
 "cells": [
  {
   "cell_type": "code",
   "execution_count": 1,
   "metadata": {},
   "outputs": [],
   "source": [
    "%load_ext autoreload\n",
    "%autoreload 2\n",
    "\n",
    "#standard imports\n",
    "import numpy as np\n",
    "import pandas as pd\n",
    "import numpy as np\n",
    "import pandas as pd\n",
    "import matplotlib.pyplot as plt\n",
    "import sys\n",
    "sys.path.append(\"..\")\n",
    "\n",
    "#rl book imports\n",
    "import rl\n",
    "from rl.markov_decision_process import MarkovDecisionProcess\n",
    "from rl.markov_process import State, MarkovProcess, NonTerminal, Terminal\n",
    "\n",
    "from typing import (Callable, Dict, Generic, Iterator, Iterable, List,\n",
    "                    Mapping, Optional, Sequence, Tuple, TypeVar, overload)\n",
    "\n",
    "from rl.distribution import Categorical, Distribution, Constant, Choose\n",
    "from rl.policy import Policy\n",
    "from rl.monte_carlo import epsilon_greedy_policy, greedy_policy_from_qvf, glie_mc_control, mc_prediction\n",
    "from rl.function_approx import LinearFunctionApprox, AdamGradient\n",
    "from rl.td import glie_sarsa, q_learning\n",
    "\n",
    "\n",
    "#custom imports \n",
    "import utils as u\n",
    "import data as dat\n",
    "import mdp_agent as ag\n",
    "import baseline_policies as bp\n",
    "import q_plots as qp\n",
    "import backtest as btest"
   ]
  },
  {
   "cell_type": "markdown",
   "metadata": {},
   "source": [
    "# Expectation of discounted returns for OU process"
   ]
  },
  {
   "cell_type": "code",
   "execution_count": null,
   "metadata": {},
   "outputs": [],
   "source": []
  }
 ],
 "metadata": {
  "kernelspec": {
   "display_name": "Python 3.10.7 64-bit",
   "language": "python",
   "name": "python3"
  },
  "language_info": {
   "codemirror_mode": {
    "name": "ipython",
    "version": 3
   },
   "file_extension": ".py",
   "mimetype": "text/x-python",
   "name": "python",
   "nbconvert_exporter": "python",
   "pygments_lexer": "ipython3",
   "version": "3.10.7"
  },
  "orig_nbformat": 4,
  "vscode": {
   "interpreter": {
    "hash": "aee8b7b246df8f9039afb4144a1f6fd8d2ca17a180786b69acc140d282b71a49"
   }
  }
 },
 "nbformat": 4,
 "nbformat_minor": 2
}
