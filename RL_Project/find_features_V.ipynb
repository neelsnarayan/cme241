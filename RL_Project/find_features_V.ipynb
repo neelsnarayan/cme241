{
 "cells": [
  {
   "cell_type": "code",
   "execution_count": 19,
   "metadata": {},
   "outputs": [
    {
     "name": "stdout",
     "output_type": "stream",
     "text": [
      "The autoreload extension is already loaded. To reload it, use:\n",
      "  %reload_ext autoreload\n"
     ]
    }
   ],
   "source": [
    "%load_ext autoreload\n",
    "%autoreload 2\n",
    "%matplotlib inline\n",
    "\n",
    "\n",
    "#standard imports\n",
    "import numpy as np\n",
    "import pandas as pd\n",
    "import numpy as np\n",
    "import pandas as pd\n",
    "import matplotlib.pyplot as plt\n",
    "import sys\n",
    "sys.path.append(\"..\")\n",
    "\n",
    "#rl book imports\n",
    "import rl\n",
    "from rl.markov_decision_process import MarkovDecisionProcess\n",
    "from rl.markov_process import State, MarkovProcess, NonTerminal, Terminal\n",
    "\n",
    "from typing import (Callable, Dict, Generic, Iterator, Iterable, List,\n",
    "                    Mapping, Optional, Sequence, Tuple, TypeVar, overload)\n",
    "\n",
    "from rl.distribution import Categorical, Distribution, Constant, Choose\n",
    "from rl.policy import Policy\n",
    "from rl.monte_carlo import epsilon_greedy_policy, greedy_policy_from_qvf, glie_mc_control, mc_prediction\n",
    "from rl.function_approx import LinearFunctionApprox, AdamGradient\n",
    "from rl.td import glie_sarsa, q_learning\n",
    "\n",
    "\n",
    "#custom imports \n",
    "import utils as u\n",
    "import data as dat\n",
    "import mdp_agent as ag\n",
    "import baseline_policies as bp\n",
    "import q_plots as qp\n",
    "import backtest as btest\n",
    "\n",
    "from sklearn.linear_model import LinearRegression\n"
   ]
  },
  {
   "cell_type": "markdown",
   "metadata": {},
   "source": [
    "# Expectation of discounted returns for OU process"
   ]
  },
  {
   "cell_type": "code",
   "execution_count": 20,
   "metadata": {},
   "outputs": [],
   "source": [
    "def get_sde_step(X_t_1,mu=100,sigma=20,kappa=10,step=0):\n",
    "    # This is a placeholder for the actual SDE step function you mentioned.\n",
    "    # It should return X_{t+dt} given the current X_t.\n",
    "    dt = (1/252)\n",
    "    dW = np.random.normal(0, np.sqrt(dt))  # increment of Wiener process\n",
    "    X_t = X_t_1 + kappa * (mu + step*1 - X_t_1) * dt + sigma * dW #step is trend parameter\n",
    "    return X_t\n",
    "    \n",
    "\n",
    "def f_trend(x, gamma=0.9, num_steps=1000, num_simulations=100,sigma=10,kappa=20):\n",
    "    total_rewards = np.zeros(num_simulations)\n",
    "    \n",
    "    for sim in range(num_simulations):\n",
    "        X_t = x\n",
    "        reward = 0\n",
    "        simu = [x]\n",
    "        for t in range(num_steps):\n",
    "            X_next = get_sde_step(X_t,sigma=sigma,kappa=kappa,step=t)\n",
    "            reward += (gamma ** t) * np.log(X_next / X_t)\n",
    "            X_t = X_next\n",
    "            simu.append(X_t)\n",
    "\n",
    "        \n",
    "        total_rewards[sim] = reward\n",
    "    \n",
    "    expected_reward = np.mean(total_rewards)\n",
    "    return expected_reward\n",
    "\n",
    "def f_statio(x, gamma=0.9, num_steps=1000, num_simulations=100,sigma=10,kappa=20):\n",
    "    total_rewards = np.zeros(num_simulations)\n",
    "    \n",
    "    for sim in range(num_simulations):\n",
    "        X_t = x\n",
    "        reward = 0\n",
    "        for t in range(num_steps):\n",
    "            X_next = get_sde_step(X_t,step=0,sigma=sigma,kappa=kappa)\n",
    "            reward += (gamma ** t) * np.log(X_next / X_t)\n",
    "            X_t = X_next\n",
    "        \n",
    "        total_rewards[sim] = reward\n",
    "    \n",
    "    expected_reward = np.mean(total_rewards)\n",
    "    return expected_reward"
   ]
  },
  {
   "cell_type": "code",
   "execution_count": 21,
   "metadata": {},
   "outputs": [],
   "source": [
    "def fit_weights(sigma, kappa, trend=0.1, include_trend = False, num_steps=1000, num_simulations=100,range_estim = 40,gamma=0.9):\n",
    "    \n",
    "    X = np.arange(100-range_estim, 100+range_estim)\n",
    "    Y = [f_statio(x,gamma=gamma,num_steps=num_steps,num_simulations=num_simulations,sigma=sigma,kappa=kappa) for x in X]\n",
    "    X = X.reshape(-1,1)\n",
    "    model = LinearRegression().fit(X, Y)\n",
    "\n",
    "    # Extracting the parameters\n",
    "    a = model.coef_[0]\n",
    "    b = model.intercept_\n",
    "    plt.plot(X,a*X+b)\n",
    "    plt.plot(X,Y)\n",
    "    plt.show()\n",
    "    print(a,b)\n",
    "\n",
    "\n",
    "fit_weights(sigma=10,kappa = 20)"
   ]
  },
  {
   "cell_type": "code",
   "execution_count": null,
   "metadata": {},
   "outputs": [],
   "source": []
  }
 ],
 "metadata": {
  "kernelspec": {
   "display_name": "Python 3 (ipykernel)",
   "language": "python",
   "name": "python3"
  },
  "language_info": {
   "codemirror_mode": {
    "name": "ipython",
    "version": 3
   },
   "file_extension": ".py",
   "mimetype": "text/x-python",
   "name": "python",
   "nbconvert_exporter": "python",
   "pygments_lexer": "ipython3",
   "version": "3.10.7"
  },
  "vscode": {
   "interpreter": {
    "hash": "aee8b7b246df8f9039afb4144a1f6fd8d2ca17a180786b69acc140d282b71a49"
   }
  }
 },
 "nbformat": 4,
 "nbformat_minor": 2
}
